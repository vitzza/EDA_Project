{
 "cells": [
  {
   "cell_type": "markdown",
   "id": "fe013e95",
   "metadata": {},
   "source": [
    "# Larry Sanders's Dream Home"
   ]
  },
  {
   "cell_type": "markdown",
   "id": "ffee39e1",
   "metadata": {},
   "source": [
    "Our client Mr. Larry Sanders, shares one of the biggest american dreams: he wants to buy a home. The wished location is King County - Washington. It is one of the healthiest Counties in the USA, where life expectancy reaches 82.3 years, way above national average. It is also a wealthy area, where median household income is also above national average, and reaches $122,148 per household.  (Source: https://datausa.io/).\n",
    "\n",
    "Mr. Sanders has a limited budget, and wants a waterfront home. It has to be nice and isolated, but still within a central neighborhood. One important criteria is that the neighborhood should not have many kids, since Mr. Sanders prefers that his children does not interact with others (too many germs out there!)\n",
    "\n",
    "\n",
    "\n"
   ]
  },
  {
   "cell_type": "markdown",
   "id": "1e6a3ea3",
   "metadata": {},
   "source": [
    "### Summary of Client's Demands:\n",
    "- Waterfront home\n",
    "- Limited Budget\n",
    "- Nice & Isolated Property\n",
    "- Central Neighborhood\n",
    "- No kids Neighborhood\n",
    "- Bonus: Data about area cleaness "
   ]
  },
  {
   "cell_type": "markdown",
   "id": "8ee423ee",
   "metadata": {},
   "source": [
    "### Working with the provided Data\n",
    "\n",
    "For this client's analysis, we will be working with the King County Database. We will first import it, and then filter relevant information for our case. We will be also cleaning the Data, to make sure we have the best outcome possible through out analysis. "
   ]
  },
  {
   "cell_type": "markdown",
   "id": "83edfca4",
   "metadata": {},
   "source": [
    "## Setup, Import and first small Analysis"
   ]
  },
  {
   "cell_type": "code",
   "execution_count": 115,
   "id": "a774f276",
   "metadata": {},
   "outputs": [],
   "source": [
    "# Import packages\n",
    "import pandas as pd\n",
    "import numpy as np\n",
    "import matplotlib.pyplot as plt\n",
    "import seaborn as sns\n",
    "\n",
    "import warnings\n",
    "warnings.filterwarnings(\"ignore\")"
   ]
  },
  {
   "cell_type": "code",
   "execution_count": 116,
   "id": "2e65398b",
   "metadata": {},
   "outputs": [],
   "source": [
    "# Import Data\n",
    "df = pd.read_csv(\"../data/KingCounty_joinedTable.csv\", sep=\";\")"
   ]
  },
  {
   "cell_type": "code",
   "execution_count": 117,
   "id": "abf9fff6",
   "metadata": {},
   "outputs": [
    {
     "data": {
      "text/html": [
       "<div>\n",
       "<style scoped>\n",
       "    .dataframe tbody tr th:only-of-type {\n",
       "        vertical-align: middle;\n",
       "    }\n",
       "\n",
       "    .dataframe tbody tr th {\n",
       "        vertical-align: top;\n",
       "    }\n",
       "\n",
       "    .dataframe thead th {\n",
       "        text-align: right;\n",
       "    }\n",
       "</style>\n",
       "<table border=\"1\" class=\"dataframe\">\n",
       "  <thead>\n",
       "    <tr style=\"text-align: right;\">\n",
       "      <th></th>\n",
       "      <th>id</th>\n",
       "      <th>bedrooms</th>\n",
       "      <th>bathrooms</th>\n",
       "      <th>sqft_living</th>\n",
       "      <th>sqft_lot</th>\n",
       "      <th>floors</th>\n",
       "      <th>waterfront</th>\n",
       "      <th>view</th>\n",
       "      <th>condition</th>\n",
       "      <th>grade</th>\n",
       "      <th>...</th>\n",
       "      <th>yr_renovated</th>\n",
       "      <th>zipcode</th>\n",
       "      <th>lat</th>\n",
       "      <th>long</th>\n",
       "      <th>sqft_living15</th>\n",
       "      <th>sqft_lot15</th>\n",
       "      <th>date</th>\n",
       "      <th>price</th>\n",
       "      <th>house_id</th>\n",
       "      <th>id.1</th>\n",
       "    </tr>\n",
       "  </thead>\n",
       "  <tbody>\n",
       "    <tr>\n",
       "      <th>0</th>\n",
       "      <td>7129300520</td>\n",
       "      <td>3.0</td>\n",
       "      <td>1.00</td>\n",
       "      <td>1180.0</td>\n",
       "      <td>5650.0</td>\n",
       "      <td>1.0</td>\n",
       "      <td>NaN</td>\n",
       "      <td>0.0</td>\n",
       "      <td>3</td>\n",
       "      <td>7</td>\n",
       "      <td>...</td>\n",
       "      <td>0.0</td>\n",
       "      <td>98178</td>\n",
       "      <td>47.5112</td>\n",
       "      <td>-122.257</td>\n",
       "      <td>1340.0</td>\n",
       "      <td>5650.0</td>\n",
       "      <td>2014-10-13</td>\n",
       "      <td>221900.0</td>\n",
       "      <td>7129300520</td>\n",
       "      <td>1</td>\n",
       "    </tr>\n",
       "    <tr>\n",
       "      <th>1</th>\n",
       "      <td>6414100192</td>\n",
       "      <td>3.0</td>\n",
       "      <td>2.25</td>\n",
       "      <td>2570.0</td>\n",
       "      <td>7242.0</td>\n",
       "      <td>2.0</td>\n",
       "      <td>0.0</td>\n",
       "      <td>0.0</td>\n",
       "      <td>3</td>\n",
       "      <td>7</td>\n",
       "      <td>...</td>\n",
       "      <td>19910.0</td>\n",
       "      <td>98125</td>\n",
       "      <td>47.7210</td>\n",
       "      <td>-122.319</td>\n",
       "      <td>1690.0</td>\n",
       "      <td>7639.0</td>\n",
       "      <td>2014-12-09</td>\n",
       "      <td>538000.0</td>\n",
       "      <td>6414100192</td>\n",
       "      <td>2</td>\n",
       "    </tr>\n",
       "    <tr>\n",
       "      <th>2</th>\n",
       "      <td>5631500400</td>\n",
       "      <td>2.0</td>\n",
       "      <td>1.00</td>\n",
       "      <td>770.0</td>\n",
       "      <td>10000.0</td>\n",
       "      <td>1.0</td>\n",
       "      <td>0.0</td>\n",
       "      <td>0.0</td>\n",
       "      <td>3</td>\n",
       "      <td>6</td>\n",
       "      <td>...</td>\n",
       "      <td>NaN</td>\n",
       "      <td>98028</td>\n",
       "      <td>47.7379</td>\n",
       "      <td>-122.233</td>\n",
       "      <td>2720.0</td>\n",
       "      <td>8062.0</td>\n",
       "      <td>2015-02-25</td>\n",
       "      <td>180000.0</td>\n",
       "      <td>5631500400</td>\n",
       "      <td>3</td>\n",
       "    </tr>\n",
       "    <tr>\n",
       "      <th>3</th>\n",
       "      <td>2487200875</td>\n",
       "      <td>4.0</td>\n",
       "      <td>3.00</td>\n",
       "      <td>1960.0</td>\n",
       "      <td>5000.0</td>\n",
       "      <td>1.0</td>\n",
       "      <td>0.0</td>\n",
       "      <td>0.0</td>\n",
       "      <td>5</td>\n",
       "      <td>7</td>\n",
       "      <td>...</td>\n",
       "      <td>0.0</td>\n",
       "      <td>98136</td>\n",
       "      <td>47.5208</td>\n",
       "      <td>-122.393</td>\n",
       "      <td>1360.0</td>\n",
       "      <td>5000.0</td>\n",
       "      <td>2014-12-09</td>\n",
       "      <td>604000.0</td>\n",
       "      <td>2487200875</td>\n",
       "      <td>4</td>\n",
       "    </tr>\n",
       "    <tr>\n",
       "      <th>4</th>\n",
       "      <td>1954400510</td>\n",
       "      <td>3.0</td>\n",
       "      <td>2.00</td>\n",
       "      <td>1680.0</td>\n",
       "      <td>8080.0</td>\n",
       "      <td>1.0</td>\n",
       "      <td>0.0</td>\n",
       "      <td>0.0</td>\n",
       "      <td>3</td>\n",
       "      <td>8</td>\n",
       "      <td>...</td>\n",
       "      <td>0.0</td>\n",
       "      <td>98074</td>\n",
       "      <td>47.6168</td>\n",
       "      <td>-122.045</td>\n",
       "      <td>1800.0</td>\n",
       "      <td>7503.0</td>\n",
       "      <td>2015-02-18</td>\n",
       "      <td>510000.0</td>\n",
       "      <td>1954400510</td>\n",
       "      <td>5</td>\n",
       "    </tr>\n",
       "  </tbody>\n",
       "</table>\n",
       "<p>5 rows × 23 columns</p>\n",
       "</div>"
      ],
      "text/plain": [
       "           id  bedrooms  bathrooms  sqft_living  sqft_lot  floors  waterfront  \\\n",
       "0  7129300520       3.0       1.00       1180.0    5650.0     1.0         NaN   \n",
       "1  6414100192       3.0       2.25       2570.0    7242.0     2.0         0.0   \n",
       "2  5631500400       2.0       1.00        770.0   10000.0     1.0         0.0   \n",
       "3  2487200875       4.0       3.00       1960.0    5000.0     1.0         0.0   \n",
       "4  1954400510       3.0       2.00       1680.0    8080.0     1.0         0.0   \n",
       "\n",
       "   view  condition  grade  ...  yr_renovated  zipcode      lat     long  \\\n",
       "0   0.0          3      7  ...           0.0    98178  47.5112 -122.257   \n",
       "1   0.0          3      7  ...       19910.0    98125  47.7210 -122.319   \n",
       "2   0.0          3      6  ...           NaN    98028  47.7379 -122.233   \n",
       "3   0.0          5      7  ...           0.0    98136  47.5208 -122.393   \n",
       "4   0.0          3      8  ...           0.0    98074  47.6168 -122.045   \n",
       "\n",
       "   sqft_living15  sqft_lot15        date     price    house_id id.1  \n",
       "0         1340.0      5650.0  2014-10-13  221900.0  7129300520    1  \n",
       "1         1690.0      7639.0  2014-12-09  538000.0  6414100192    2  \n",
       "2         2720.0      8062.0  2015-02-25  180000.0  5631500400    3  \n",
       "3         1360.0      5000.0  2014-12-09  604000.0  2487200875    4  \n",
       "4         1800.0      7503.0  2015-02-18  510000.0  1954400510    5  \n",
       "\n",
       "[5 rows x 23 columns]"
      ]
     },
     "execution_count": 117,
     "metadata": {},
     "output_type": "execute_result"
    }
   ],
   "source": [
    "# Have a first quick look on the data\n",
    "df.head()\n",
    "\n",
    "# I already see some null data, but overall the import worked and i can continue analysing the dataframe"
   ]
  },
  {
   "cell_type": "code",
   "execution_count": 118,
   "id": "7d24e4bd",
   "metadata": {},
   "outputs": [
    {
     "name": "stdout",
     "output_type": "stream",
     "text": [
      "<class 'pandas.core.frame.DataFrame'>\n",
      "RangeIndex: 21597 entries, 0 to 21596\n",
      "Data columns (total 23 columns):\n",
      " #   Column         Non-Null Count  Dtype  \n",
      "---  ------         --------------  -----  \n",
      " 0   id             21597 non-null  int64  \n",
      " 1   bedrooms       21597 non-null  float64\n",
      " 2   bathrooms      21597 non-null  float64\n",
      " 3   sqft_living    21597 non-null  float64\n",
      " 4   sqft_lot       21597 non-null  float64\n",
      " 5   floors         21597 non-null  float64\n",
      " 6   waterfront     19206 non-null  float64\n",
      " 7   view           21534 non-null  float64\n",
      " 8   condition      21597 non-null  int64  \n",
      " 9   grade          21597 non-null  int64  \n",
      " 10  sqft_above     21597 non-null  float64\n",
      " 11  sqft_basement  21145 non-null  float64\n",
      " 12  yr_built       21597 non-null  int64  \n",
      " 13  yr_renovated   17749 non-null  float64\n",
      " 14  zipcode        21597 non-null  int64  \n",
      " 15  lat            21597 non-null  float64\n",
      " 16  long           21597 non-null  float64\n",
      " 17  sqft_living15  21597 non-null  float64\n",
      " 18  sqft_lot15     21597 non-null  float64\n",
      " 19  date           21597 non-null  object \n",
      " 20  price          21597 non-null  float64\n",
      " 21  house_id       21597 non-null  int64  \n",
      " 22  id.1           21597 non-null  int64  \n",
      "dtypes: float64(15), int64(7), object(1)\n",
      "memory usage: 3.8+ MB\n"
     ]
    }
   ],
   "source": [
    "# Get a quick info overview of the data\n",
    "df.info()\n",
    "\n",
    "# I can see that all columns have proper value types except the \"date\", this is going to cause issues\n",
    "# I can also see that we have 21597 entries in total"
   ]
  },
  {
   "cell_type": "code",
   "execution_count": 119,
   "id": "7f388822",
   "metadata": {},
   "outputs": [],
   "source": [
    "# Get a first statistics overview from the data columns\n",
    "# I also rounded the data down to 2 decimals, to make it better readable\n",
    "df.describe().round(2)\n",
    "\n",
    "# Since there are so many columns, i cannot see all of them in the jupyter preview. So im exporting the output to \n",
    "# .csv file to have a better view\n",
    "df.describe().to_csv(\"DataFrameExport/general_describe.csv\")\n",
    "\n",
    "# That gave me some first informations, like:\n",
    "# Price - min: 78000$ max: 7700000$ | so depending on the budget of the client, we might be able to reduce the entries a lot by the price for example"
   ]
  },
  {
   "cell_type": "markdown",
   "id": "497346ce",
   "metadata": {},
   "source": [
    "## Data Cleaning "
   ]
  },
  {
   "cell_type": "code",
   "execution_count": 120,
   "id": "51f1226b",
   "metadata": {},
   "outputs": [
    {
     "data": {
      "text/plain": [
       "id                  0\n",
       "bedrooms            0\n",
       "bathrooms           0\n",
       "sqft_living         0\n",
       "sqft_lot            0\n",
       "floors              0\n",
       "waterfront       2391\n",
       "view               63\n",
       "condition           0\n",
       "grade               0\n",
       "sqft_above          0\n",
       "sqft_basement     452\n",
       "yr_built            0\n",
       "yr_renovated     3848\n",
       "zipcode             0\n",
       "lat                 0\n",
       "long                0\n",
       "sqft_living15       0\n",
       "sqft_lot15          0\n",
       "date                0\n",
       "price               0\n",
       "house_id            0\n",
       "id.1                0\n",
       "dtype: int64"
      ]
     },
     "execution_count": 120,
     "metadata": {},
     "output_type": "execute_result"
    }
   ],
   "source": [
    "# Looking for null data\n",
    "df.isnull().sum()\n",
    "\n",
    "# I can see that the columns Waterfront, sqft_basement and yr_renovated have a lot of null data"
   ]
  },
  {
   "cell_type": "code",
   "execution_count": 121,
   "id": "2ede3a4c",
   "metadata": {},
   "outputs": [
    {
     "name": "stdout",
     "output_type": "stream",
     "text": [
      "waterfront       0\n",
      "view             0\n",
      "sqft_basement    0\n",
      "dtype: int64\n"
     ]
    }
   ],
   "source": [
    "# So im going to replace the null entries with a 0\n",
    "\n",
    "# Fill missing values for critical columns\n",
    "df['waterfront'] = df['waterfront'].fillna(0)\n",
    "df['view'] = df['view'].fillna(0)\n",
    "df['sqft_basement'] = df['sqft_basement'].fillna(0)\n",
    "\n",
    "# And Confirm there are no more NaNs in those columns\n",
    "print(df[['waterfront', 'view', 'sqft_basement']].isnull().sum())\n"
   ]
  },
  {
   "cell_type": "code",
   "execution_count": 122,
   "id": "6dfbc965",
   "metadata": {},
   "outputs": [
    {
     "data": {
      "text/plain": [
       "False    21597\n",
       "Name: count, dtype: int64"
      ]
     },
     "execution_count": 122,
     "metadata": {},
     "output_type": "execute_result"
    }
   ],
   "source": [
    "#Checking for Duplicates\n",
    "df.duplicated().value_counts()\n",
    "#No Duplicates were found"
   ]
  },
  {
   "cell_type": "code",
   "execution_count": 123,
   "id": "3d175845",
   "metadata": {},
   "outputs": [
    {
     "data": {
      "text/plain": [
       "id                        int64\n",
       "bedrooms                float64\n",
       "bathrooms               float64\n",
       "sqft_living             float64\n",
       "sqft_lot                float64\n",
       "floors                  float64\n",
       "waterfront              float64\n",
       "view                    float64\n",
       "condition                 int64\n",
       "grade                     int64\n",
       "sqft_above              float64\n",
       "sqft_basement           float64\n",
       "yr_built                  int64\n",
       "yr_renovated              int64\n",
       "zipcode                   int64\n",
       "lat                     float64\n",
       "long                    float64\n",
       "sqft_living15           float64\n",
       "sqft_lot15              float64\n",
       "date             datetime64[ns]\n",
       "price                   float64\n",
       "house_id                  int64\n",
       "id.1                      int64\n",
       "dtype: object"
      ]
     },
     "execution_count": 123,
     "metadata": {},
     "output_type": "execute_result"
    }
   ],
   "source": [
    "# Transforming Date Column from Object to Date Format\n",
    "df ['date'] = pd.to_datetime(df['date'],format=\"%Y-%m-%d\")\n",
    "\n",
    "# If i want to use the yr_renovated, i should also transform it into an int \n",
    "df[\"yr_renovated\"] = df[\"yr_renovated\"].fillna(0).round(0).astype(int)\n",
    "df.yr_renovated = df.yr_renovated.apply(lambda x: int(str(x)[:4]))\n",
    "\n",
    "#Checking for Data Types\n",
    "df.dtypes\n",
    "\n",
    "# All are integers and floats, except for Date (which was an object and is datetime now)\n",
    "# I think the data is clean enough to work with it now"
   ]
  },
  {
   "cell_type": "markdown",
   "id": "2f207afb",
   "metadata": {},
   "source": [
    "## Three Hypothesis (including one Geographical)"
   ]
  },
  {
   "cell_type": "markdown",
   "id": "6c41230b",
   "metadata": {},
   "source": [
    "### H1: If a Waterfront house is not renovated, the price is cheaper."
   ]
  },
  {
   "cell_type": "code",
   "execution_count": 124,
   "id": "3a110860",
   "metadata": {},
   "outputs": [
    {
     "name": "stdout",
     "output_type": "stream",
     "text": [
      "There are 146 Waterfront homes\n",
      "From the Waterfront homes, 117 are not renovated\n",
      "From the Waterfront homes, 29 are renovated\n",
      "Median price for Renovated homes: 1230000.0$\n",
      "Median price for non Renovated: 1600000.0$\n",
      "Median sq. ft. price_for not renovated homes: 532.26\n",
      "Median sq. ft. price_for renovated homes: 471.7\n"
     ]
    },
    {
     "data": {
      "image/png": "[encoded data removed]",
      "text/plain": [
       "<Figure size 611.111x600 with 1 Axes>"
      ]
     },
     "metadata": {},
     "output_type": "display_data"
    }
   ],
   "source": [
    "# Since my client is only interested in waterfront homes, i will filter for that\n",
    "df_waterfront = df.query(\"waterfront > 0\")\n",
    "print(\"There are\",df_waterfront.value_counts().sum(), \"Waterfront homes\")\n",
    "# Output: There are 146 Waterfront homes\n",
    "\n",
    "df_waterfront_not_renovated = df_waterfront.query(\"yr_renovated <= 0\")\n",
    "print(\"From the Waterfront homes,\",df_waterfront_not_renovated.value_counts().sum(), \"are not renovated\")\n",
    "# Output: From the Waterfront homes, 117 are not renovated\n",
    "\n",
    "df_waterfront_renovated = df_waterfront.query(\"yr_renovated > 0\")\n",
    "print(\"From the Waterfront homes,\",df_waterfront_renovated.value_counts().sum(), \"are renovated\")\n",
    "# Output: From the Waterfront homes, 29 are renovated\n",
    "\n",
    "# So we know now, that from the 146 Waterfront homes that exist, 29 are renovated and 117 are not. \n",
    "\n",
    "# For my hypothesis i need to know if the non renovated homes are actually cheaper. \n",
    "# So ill get the median price for renovated and unrenovated waterfront homes.\n",
    "print(\"Median price for Renovated homes: \"+ str(df_waterfront_renovated.price.median().round(2)) + \"$\")\n",
    "print(\"Median price for non Renovated: \" +str(df_waterfront_not_renovated.price.median().round(2)) + \"$\")\n",
    "# Renovated:     1230000.0$\n",
    "# Non Renovated: 1600000.0$\n",
    "\n",
    "# To go further with my investigation, i want to have a column which specifies if a home\n",
    "# is renovated or not. I assume that a home was renovated when the renovation year is >0\n",
    "df_waterfront[\"renovation_status\"] = df_waterfront[\"yr_renovated\"].apply(\n",
    "              lambda x: \"Renovated\" if x > 0 else \"Not Renovated\")\n",
    "\n",
    "# Then i want to have a column which represents the price per sq. ft. \n",
    "df_waterfront[\"price_per_sqrfoot\"] = (df_waterfront.price / df_waterfront.sqft_living).round(2)\n",
    "\n",
    "# After that i create a new dataframe, groping houses by renovation status and the median price\n",
    "# per sqr foot\n",
    "price_by_renovation = df_waterfront.groupby('renovation_status')['price_per_sqrfoot'].median()\n",
    "print(\"Median sq. ft. price_for not renovated homes:\",price_by_renovation[0])\n",
    "print(\"Median sq. ft. price_for renovated homes:\",price_by_renovation[1])\n",
    "# Not Renovated: 532.26$, Renovated: 471.70$ per sq. ft.\n",
    "\n",
    "# Now i create a bar diagram to visualize the median sq. ft. price for renovated/unrenotated\n",
    "# waterfront homes\n",
    "g = sns.catplot(\n",
    "    data=df_waterfront, kind=\"bar\",\n",
    "    x =\"renovation_status\", y = \"price_per_sqrfoot\",\n",
    "    alpha = .6, height= 6, color = \"red\"\n",
    ")\n",
    "\n",
    "plt.xlabel(\"Renovation Status\")\n",
    "plt.ylabel(\"Med. sq. ft. price\")\n",
    "plt.rcParams['font.family'] = 'Verdana'\n",
    "g.set(title=\"Comparison Between sq. ft. Price x Renovation Status\")\n",
    "plt.show()\n",
    "\n"
   ]
  },
  {
   "cell_type": "markdown",
   "id": "bb73b9c7",
   "metadata": {},
   "source": [
    "My first hypothesis appears to be wrong. Even if the median for the house prices are lower, the price per sq. ft. for renovated homes is cheaper. So depending on the size of the house it might be better to buy a renovated home. (Aside from eventual costs in the future for unrenovated homes) "
   ]
  },
  {
   "cell_type": "markdown",
   "id": "c910ed10",
   "metadata": {},
   "source": [
    "### H2: If the purchase is done during winter months, it is likely that prices will be lower."
   ]
  },
  {
   "cell_type": "code",
   "execution_count": 125,
   "id": "3e5b6373",
   "metadata": {},
   "outputs": [],
   "source": [
    "# To find out which sale happened in which season, i prepare a function that can return a season category based on a\n",
    "# passed date parameter\n",
    "\n",
    "def get_season(date):\n",
    "    month = date.month\n",
    "    if month in [12, 1, 2]:\n",
    "        return 'Winter'\n",
    "    elif month in [3, 4, 5]:\n",
    "        return 'Spring'\n",
    "    elif month in [6, 7, 8]:\n",
    "        return 'Summer'\n",
    "    else:\n",
    "        return 'Fall'\n",
    "    "
   ]
  },
  {
   "cell_type": "code",
   "execution_count": 126,
   "id": "d9c74c55",
   "metadata": {},
   "outputs": [
    {
     "data": {
      "text/html": [
       "<div>\n",
       "<style scoped>\n",
       "    .dataframe tbody tr th:only-of-type {\n",
       "        vertical-align: middle;\n",
       "    }\n",
       "\n",
       "    .dataframe tbody tr th {\n",
       "        vertical-align: top;\n",
       "    }\n",
       "\n",
       "    .dataframe thead th {\n",
       "        text-align: right;\n",
       "    }\n",
       "</style>\n",
       "<table border=\"1\" class=\"dataframe\">\n",
       "  <thead>\n",
       "    <tr style=\"text-align: right;\">\n",
       "      <th></th>\n",
       "      <th>id</th>\n",
       "      <th>bedrooms</th>\n",
       "      <th>bathrooms</th>\n",
       "      <th>sqft_living</th>\n",
       "      <th>sqft_lot</th>\n",
       "      <th>floors</th>\n",
       "      <th>waterfront</th>\n",
       "      <th>view</th>\n",
       "      <th>condition</th>\n",
       "      <th>grade</th>\n",
       "      <th>...</th>\n",
       "      <th>long</th>\n",
       "      <th>sqft_living15</th>\n",
       "      <th>sqft_lot15</th>\n",
       "      <th>date</th>\n",
       "      <th>price</th>\n",
       "      <th>house_id</th>\n",
       "      <th>id.1</th>\n",
       "      <th>renovation_status</th>\n",
       "      <th>price_per_sqrfoot</th>\n",
       "      <th>season</th>\n",
       "    </tr>\n",
       "  </thead>\n",
       "  <tbody>\n",
       "    <tr>\n",
       "      <th>49</th>\n",
       "      <td>822039084</td>\n",
       "      <td>3.0</td>\n",
       "      <td>2.50</td>\n",
       "      <td>2753.0</td>\n",
       "      <td>65005.0</td>\n",
       "      <td>1.0</td>\n",
       "      <td>1.0</td>\n",
       "      <td>2.0</td>\n",
       "      <td>5</td>\n",
       "      <td>9</td>\n",
       "      <td>...</td>\n",
       "      <td>-122.451</td>\n",
       "      <td>2680.0</td>\n",
       "      <td>72513.0</td>\n",
       "      <td>2015-03-11</td>\n",
       "      <td>1350000.0</td>\n",
       "      <td>822039084</td>\n",
       "      <td>50</td>\n",
       "      <td>Not Renovated</td>\n",
       "      <td>490.37</td>\n",
       "      <td>Spring</td>\n",
       "    </tr>\n",
       "    <tr>\n",
       "      <th>230</th>\n",
       "      <td>8096000060</td>\n",
       "      <td>2.0</td>\n",
       "      <td>1.75</td>\n",
       "      <td>1450.0</td>\n",
       "      <td>15798.0</td>\n",
       "      <td>2.0</td>\n",
       "      <td>1.0</td>\n",
       "      <td>4.0</td>\n",
       "      <td>3</td>\n",
       "      <td>7</td>\n",
       "      <td>...</td>\n",
       "      <td>-122.375</td>\n",
       "      <td>2030.0</td>\n",
       "      <td>13193.0</td>\n",
       "      <td>2015-04-13</td>\n",
       "      <td>655000.0</td>\n",
       "      <td>8096000060</td>\n",
       "      <td>231</td>\n",
       "      <td>Renovated</td>\n",
       "      <td>451.72</td>\n",
       "      <td>Spring</td>\n",
       "    </tr>\n",
       "  </tbody>\n",
       "</table>\n",
       "<p>2 rows × 26 columns</p>\n",
       "</div>"
      ],
      "text/plain": [
       "             id  bedrooms  bathrooms  sqft_living  sqft_lot  floors  \\\n",
       "49    822039084       3.0       2.50       2753.0   65005.0     1.0   \n",
       "230  8096000060       2.0       1.75       1450.0   15798.0     2.0   \n",
       "\n",
       "     waterfront  view  condition  grade  ...     long  sqft_living15  \\\n",
       "49          1.0   2.0          5      9  ... -122.451         2680.0   \n",
       "230         1.0   4.0          3      7  ... -122.375         2030.0   \n",
       "\n",
       "     sqft_lot15       date      price    house_id  id.1  renovation_status  \\\n",
       "49      72513.0 2015-03-11  1350000.0   822039084    50      Not Renovated   \n",
       "230     13193.0 2015-04-13   655000.0  8096000060   231          Renovated   \n",
       "\n",
       "     price_per_sqrfoot  season  \n",
       "49              490.37  Spring  \n",
       "230             451.72  Spring  \n",
       "\n",
       "[2 rows x 26 columns]"
      ]
     },
     "execution_count": 126,
     "metadata": {},
     "output_type": "execute_result"
    }
   ],
   "source": [
    "# Then i create a new columns for the season category by passing the date of each entrie trough my function\n",
    "df_waterfront[\"season\"] = df_waterfront[\"date\"].apply(get_season)\n",
    "\n",
    "# Quick look if my column was created successfully\n",
    "df_waterfront.head(2)\n",
    "\n",
    "# The column was created and has values inside"
   ]
  },
  {
   "cell_type": "code",
   "execution_count": 127,
   "id": "cb801b5a",
   "metadata": {},
   "outputs": [
    {
     "name": "stdout",
     "output_type": "stream",
     "text": [
      " Med. house sale price for Spring 532.26 \n",
      " Med. house sale price for Fall 554.91 \n",
      " Med. house sale price for Summer 488.81 \n",
      " Med. house sale price for Winter 479.53\n"
     ]
    }
   ],
   "source": [
    "# Now i want to create a new dataframe grouped by season and median sq. ft. price\n",
    "price_by_season = df_waterfront.groupby('season')['price_per_sqrfoot'].median()\n",
    "print(\n",
    "    \"\",\"Med. house sale price for Spring\",price_by_season[0],\"\\n\",\n",
    "    \"Med. house sale price for Fall\",price_by_season[1],\"\\n\",\n",
    "    \"Med. house sale price for Summer\",price_by_season[2],\"\\n\",\n",
    "    \"Med. house sale price for Winter\",price_by_season[3]\n",
    "    )\n",
    "\n",
    "# Output: \n",
    "#  Med. house sale price for Spring 532.26 \n",
    "#  Med. house sale price for Fall 554.91 \n",
    "#  Med. house sale price for Summer 488.81 \n",
    "#  Med. house sale price for Winter 479.53"
   ]
  },
  {
   "cell_type": "code",
   "execution_count": 128,
   "id": "94a89cbd",
   "metadata": {},
   "outputs": [
    {
     "data": {
      "image/png": "[encoded data removed]",
      "text/plain": [
       "<Figure size 611.111x600 with 1 Axes>"
      ]
     },
     "metadata": {},
     "output_type": "display_data"
    }
   ],
   "source": [
    "# For a visual presentation im going to plot a bar diagram to visualize the median sq. ft. price per season\n",
    "# for waterfront view houses\n",
    "g = sns.catplot(\n",
    "    data=df_waterfront, kind=\"bar\",\n",
    "    x =\"season\", y = \"price_per_sqrfoot\",\n",
    "    alpha = .6, height= 6, color = \"red\"\n",
    ")\n",
    "\n",
    "plt.xlabel(\"Season\")\n",
    "plt.ylabel(\"Med. sq. ft. price\")\n",
    "plt.rcParams['font.family'] = 'Verdana'\n",
    "g.set(title=\"Comparison Between sq. ft. Price x Season\")\n",
    "plt.show()\n"
   ]
  },
  {
   "cell_type": "markdown",
   "id": "f1d8028c",
   "metadata": {},
   "source": [
    "### H3: Houses closer to central areas tend to have fewer bedrooms and smaller nearby houses, suggesting fewer families with children."
   ]
  },
  {
   "cell_type": "markdown",
   "id": "4e31a85e",
   "metadata": {},
   "source": [
    "For the thirs hypothesis i was thinking how to determine what the central area of King County might be, and came to the conclusion the area of Seattle seems to be most central. I got from this website all the zip codes from Seattle to use them with my data: https://simplemaps.com/city/seattle/zips"
   ]
  },
  {
   "cell_type": "code",
   "execution_count": 129,
   "id": "d14354dd",
   "metadata": {},
   "outputs": [
    {
     "data": {
      "text/html": [
       "<div>\n",
       "<style scoped>\n",
       "    .dataframe tbody tr th:only-of-type {\n",
       "        vertical-align: middle;\n",
       "    }\n",
       "\n",
       "    .dataframe tbody tr th {\n",
       "        vertical-align: top;\n",
       "    }\n",
       "\n",
       "    .dataframe thead th {\n",
       "        text-align: right;\n",
       "    }\n",
       "</style>\n",
       "<table border=\"1\" class=\"dataframe\">\n",
       "  <thead>\n",
       "    <tr style=\"text-align: right;\">\n",
       "      <th></th>\n",
       "      <th>id</th>\n",
       "      <th>bedrooms</th>\n",
       "      <th>bathrooms</th>\n",
       "      <th>sqft_living</th>\n",
       "      <th>sqft_lot</th>\n",
       "      <th>floors</th>\n",
       "      <th>waterfront</th>\n",
       "      <th>view</th>\n",
       "      <th>condition</th>\n",
       "      <th>grade</th>\n",
       "      <th>...</th>\n",
       "      <th>sqft_living15</th>\n",
       "      <th>sqft_lot15</th>\n",
       "      <th>date</th>\n",
       "      <th>price</th>\n",
       "      <th>house_id</th>\n",
       "      <th>id.1</th>\n",
       "      <th>renovation_status</th>\n",
       "      <th>price_per_sqrfoot</th>\n",
       "      <th>season</th>\n",
       "      <th>zip_category</th>\n",
       "    </tr>\n",
       "  </thead>\n",
       "  <tbody>\n",
       "    <tr>\n",
       "      <th>49</th>\n",
       "      <td>822039084</td>\n",
       "      <td>3.0</td>\n",
       "      <td>2.50</td>\n",
       "      <td>2753.0</td>\n",
       "      <td>65005.0</td>\n",
       "      <td>1.0</td>\n",
       "      <td>1.0</td>\n",
       "      <td>2.0</td>\n",
       "      <td>5</td>\n",
       "      <td>9</td>\n",
       "      <td>...</td>\n",
       "      <td>2680.0</td>\n",
       "      <td>72513.0</td>\n",
       "      <td>2015-03-11</td>\n",
       "      <td>1350000.0</td>\n",
       "      <td>822039084</td>\n",
       "      <td>50</td>\n",
       "      <td>Not Renovated</td>\n",
       "      <td>490.37</td>\n",
       "      <td>Spring</td>\n",
       "      <td>notCentral</td>\n",
       "    </tr>\n",
       "    <tr>\n",
       "      <th>230</th>\n",
       "      <td>8096000060</td>\n",
       "      <td>2.0</td>\n",
       "      <td>1.75</td>\n",
       "      <td>1450.0</td>\n",
       "      <td>15798.0</td>\n",
       "      <td>2.0</td>\n",
       "      <td>1.0</td>\n",
       "      <td>4.0</td>\n",
       "      <td>3</td>\n",
       "      <td>7</td>\n",
       "      <td>...</td>\n",
       "      <td>2030.0</td>\n",
       "      <td>13193.0</td>\n",
       "      <td>2015-04-13</td>\n",
       "      <td>655000.0</td>\n",
       "      <td>8096000060</td>\n",
       "      <td>231</td>\n",
       "      <td>Renovated</td>\n",
       "      <td>451.72</td>\n",
       "      <td>Spring</td>\n",
       "      <td>notCentral</td>\n",
       "    </tr>\n",
       "  </tbody>\n",
       "</table>\n",
       "<p>2 rows × 27 columns</p>\n",
       "</div>"
      ],
      "text/plain": [
       "             id  bedrooms  bathrooms  sqft_living  sqft_lot  floors  \\\n",
       "49    822039084       3.0       2.50       2753.0   65005.0     1.0   \n",
       "230  8096000060       2.0       1.75       1450.0   15798.0     2.0   \n",
       "\n",
       "     waterfront  view  condition  grade  ...  sqft_living15  sqft_lot15  \\\n",
       "49          1.0   2.0          5      9  ...         2680.0     72513.0   \n",
       "230         1.0   4.0          3      7  ...         2030.0     13193.0   \n",
       "\n",
       "          date      price    house_id  id.1  renovation_status  \\\n",
       "49  2015-03-11  1350000.0   822039084    50      Not Renovated   \n",
       "230 2015-04-13   655000.0  8096000060   231          Renovated   \n",
       "\n",
       "     price_per_sqrfoot  season zip_category  \n",
       "49              490.37  Spring   notCentral  \n",
       "230             451.72  Spring   notCentral  \n",
       "\n",
       "[2 rows x 27 columns]"
      ]
     },
     "execution_count": 129,
     "metadata": {},
     "output_type": "execute_result"
    }
   ],
   "source": [
    "# With the zip codes of Seattle from the mentioned website, i created a list, which i intend to use to categorize my home data entries\n",
    "central_zip_codes = [98101,98102,98103,98104, \n",
    "                     98105,98106,98107,98108,\n",
    "                     98109,98112,98115,98116,\n",
    "                     98117,98118,98119,98121,\n",
    "                     98122,98125,98126,98133,\n",
    "                     98134,98136,98144,98146,\n",
    "                     98154,98164,98174,98177,\n",
    "                     98178,98195,98199]\n",
    "\n",
    "# Then i defined a function that returns a string with the value \"central\" or \"notCentral\"\n",
    "# based on the passed zip code parameter, checking against my central_zip_codes list \n",
    "def get_central(zipCode):\n",
    "    if zipCode in central_zip_codes:\n",
    "        return \"central\"\n",
    "    else:\n",
    "        return \"notCentral\"\n",
    "    \n",
    "# Now i want to create a new column and categorize it to cental/non central waterfront homes\n",
    "# based on their zip code using my function\n",
    "df_waterfront[\"zip_category\"] = df_waterfront[\"zipcode\"].apply(get_central)\n",
    "\n",
    "# I will check again if my columns was properly created\n",
    "df_waterfront.head(2)\n",
    "\n",
    "# The column \"zip_category\" was successfully created and filled\n"
   ]
  },
  {
   "cell_type": "code",
   "execution_count": 130,
   "id": "8055c897",
   "metadata": {},
   "outputs": [
    {
     "name": "stdout",
     "output_type": "stream",
     "text": [
      "Central waterfront home count: 38\n",
      "Non Central waterfront home count: 108\n"
     ]
    }
   ],
   "source": [
    "# I want to know now how many waterfront homes are left, after filtering them by my central zip codes\n",
    "\n",
    "# Counting the central and non central waterfront houses \n",
    "df_waterfront_central = df_waterfront.query('`zip_category` == \"central\"')\n",
    "df_waterfront_nonCentral = df_waterfront.query('`zip_category` == \"notCentral\"')\n",
    "print(\"Central waterfront home count:\",df_waterfront_central[\"zip_category\"].count())\n",
    "print(\"Non Central waterfront home count:\",df_waterfront_nonCentral[\"zip_category\"].count())\n",
    "# Output: \n",
    "# Central waterfront home count: 38\n",
    "# Non Central waterfront home count: 108"
   ]
  },
  {
   "cell_type": "code",
   "execution_count": 131,
   "id": "00d123a4",
   "metadata": {},
   "outputs": [
    {
     "data": {
      "text/plain": [
       "zip_category\n",
       "central       3.526316\n",
       "notCentral    3.287037\n",
       "Name: bedrooms, dtype: float64"
      ]
     },
     "execution_count": 131,
     "metadata": {},
     "output_type": "execute_result"
    }
   ],
   "source": [
    "# Since i know know how many central and non central waterfront homes are left, i want to continue with the bedroom hypothesis\n",
    "\n",
    "# I create a new dataframe grouped by zip_code_category (central, nonCentral) by the average bedrooms\n",
    "bedroms_per_zipCategory = df_waterfront.groupby('zip_category')['bedrooms'].mean()\n",
    "bedroms_per_zipCategory.head(2)\n",
    "\n"
   ]
  },
  {
   "cell_type": "code",
   "execution_count": 132,
   "id": "f4c148f3",
   "metadata": {},
   "outputs": [
    {
     "data": {
      "image/png": "[encoded data removed]",
      "text/plain": [
       "<Figure size 800x600 with 1 Axes>"
      ]
     },
     "metadata": {
      "needs_background": "light"
     },
     "output_type": "display_data"
    }
   ],
   "source": [
    "# Now i want to create a bar diagram that represents the average number of bedrooms \n",
    "# for central and non central waterfront homes\n",
    "\n",
    "#Group and aggregate\n",
    "agg_data = df_waterfront.groupby('zip_category').agg({\n",
    "    'bedrooms': 'mean',\n",
    "}).reset_index()\n",
    "\n",
    "# Setup\n",
    "categories = agg_data['zip_category']\n",
    "bedrooms = agg_data['bedrooms']\n",
    "\n",
    "# Setup bar positions\n",
    "x = np.arange(len(categories))\n",
    "width = 0.7\n",
    "\n",
    "# Create figure\n",
    "fig, ax = plt.subplots(figsize=(8,6),facecolor=('none'))\n",
    "\n",
    "# Plot bars\n",
    "bars1 = ax.bar(x, bedrooms, width, label='Avg Bedrooms', color='tab:red', alpha=0.7)\n",
    "\n",
    "# Labels and title\n",
    "ax.set_xticks(x)\n",
    "ax.set_xticklabels(categories)\n",
    "ax.set_ylabel('Avg. Bedrooms')\n",
    "ax.set_title('Avg. Bedrooms by Zip Category')\n",
    "\n",
    "plt.show()\n"
   ]
  },
  {
   "cell_type": "markdown",
   "id": "3dbbe858",
   "metadata": {},
   "source": [
    "Based on the result, my hypothesis that homes in central areas haver fewer bedrooms was proven wrong. But to say is also that the difference is very small. "
   ]
  },
  {
   "cell_type": "markdown",
   "id": "9dd1ab64",
   "metadata": {},
   "source": [
    "### Home recommendations for Larry"
   ]
  },
  {
   "cell_type": "markdown",
   "id": "cd8a31a1",
   "metadata": {},
   "source": [
    "I will create some filters that are matching the personna of Larry\n",
    "\n",
    "- Budget: 1000000$\n",
    "\n",
    "- In theory homes with a bigger lot size should be farther away from each other, and therefore less crowded. \n",
    "So i decide to add a minimum lot size of 10000 sq. ft.\n",
    "\n",
    "- Since Larry has kids, i assume that we should have a minimum bedroom size of 3\n",
    "- He is also scared of germs so i go with a minimum home condition of 3 and a minimum home quality of 7\n",
    "- Since he wants to have waterfront home, he might want to have a good view, so i set a minimum of 2\n"
   ]
  },
  {
   "cell_type": "code",
   "execution_count": null,
   "id": "2b991aa5",
   "metadata": {},
   "outputs": [
    {
     "name": "stdout",
     "output_type": "stream",
     "text": [
      "               id     price  bedrooms  sqft_lot  condition  view  grade\n",
      "11544  2013802030  357000.0       3.0   53882.0          3   4.0      7\n",
      "18833  7631800110  380000.0       3.0   17342.0          3   4.0     10\n",
      "8270    221029019  400000.0       3.0   32718.0          3   4.0      7\n",
      "17460  6329000185  540000.0       3.0   23361.0          3   4.0      8\n",
      "9845    121039083  629000.0       3.0   12367.0          4   4.0      8\n",
      "Found 21 houses for Larry.\n"
     ]
    }
   ],
   "source": [
    "# Im going create a dataframe with the above mentioned filter values\n",
    "# Larry's preferences\n",
    "larry_budget = 1_000_000  # $1M\n",
    "min_lot_size = 10000      # 10,000 sqft for isolation\n",
    "\n",
    "# Apply filters\n",
    "larry_houses = df[\n",
    "    (df['waterfront'] == 1) &\n",
    "    (df['price'] <= larry_budget) &\n",
    "    (df['bedrooms'] >= 3) &\n",
    "    (df['condition'] >= 3) &\n",
    "    (df['view'] >= 2) &\n",
    "    (df['grade'] >= 7) &\n",
    "    (df['sqft_lot'] >= min_lot_size)\n",
    "]\n",
    "\n",
    "# Sort by price ascending\n",
    "larry_houses = larry_houses.sort_values(by='price')\n",
    "\n",
    "# results\n",
    "print(larry_houses[['id', 'price', 'bedrooms', 'sqft_lot', 'condition', 'view', 'grade']].head())\n",
    "print(f\"Found {len(larry_houses)} houses for Larry.\")\n",
    "\n",
    "# Found 21 houses for Larry."
   ]
  },
  {
   "cell_type": "code",
   "execution_count": 134,
   "id": "83658e29",
   "metadata": {},
   "outputs": [
    {
     "data": {
      "image/png": "[encoded data removed]",
      "text/plain": [
       "<Figure size 1000x600 with 1 Axes>"
      ]
     },
     "metadata": {},
     "output_type": "display_data"
    }
   ],
   "source": [
    "# Based on the appliance of the sq. ft. lot size, i want to see which zip codes provive the most probable amount of homes\n",
    "\n",
    "# Count Larry’s houses per zip code\n",
    "zip_counts = larry_houses['zipcode'].value_counts().sort_index()\n",
    "\n",
    "# Plot bar chart\n",
    "plt.figure(figsize=(10, 6))\n",
    "zip_counts.plot(kind='bar', color=\"#d78176\")\n",
    "plt.title(\"Number of homes for Larry per Zip Code\")\n",
    "plt.xlabel(\"Zip Code\")\n",
    "plt.ylabel(\"Number of Houses\")\n",
    "plt.xticks(rotation=45)\n",
    "plt.grid(axis='y')\n",
    "plt.show()\n"
   ]
  },
  {
   "cell_type": "code",
   "execution_count": 142,
   "id": "e9dbbbb4",
   "metadata": {},
   "outputs": [
    {
     "name": "stdout",
     "output_type": "stream",
     "text": [
      "Found 2 houses renovated after 2000.\n"
     ]
    }
   ],
   "source": [
    "# Larry didn’t say this explicitly, but if he’s germ-conscious, renovated homes may appeal to him.\n",
    "\n",
    "# Im going to add a new column: was it renovated after 2000?\n",
    "larry_houses['renovated_recently'] = larry_houses['yr_renovated'].apply(\n",
    "    lambda x: True if x >= 1990 else False\n",
    ")\n",
    "\n",
    "# I want to now also how many homes were recently renovated?\n",
    "recent_renovations = larry_houses['renovated_recently'].sum()\n",
    "print(f\"Found {recent_renovations} houses renovated after 2000.\")\n"
   ]
  },
  {
   "cell_type": "code",
   "execution_count": 171,
   "id": "cd2a5eb4",
   "metadata": {},
   "outputs": [
    {
     "data": {
      "image/png": "[encoded data removed]",
      "text/plain": [
       "<Figure size 600x600 with 1 Axes>"
      ]
     },
     "metadata": {},
     "output_type": "display_data"
    }
   ],
   "source": [
    "# Im going to create a pie chart to have a comparison between renovated und non renovated homes from our filtered homes\n",
    "\n",
    "# Count occurrences\n",
    "status_counts = larry_houses['renovation_status'].value_counts()\n",
    "\n",
    "# Custom function to show percentage and count\n",
    "def autopct_format(pct, all_vals):\n",
    "    count = int(round(pct/100.*sum(all_vals)))\n",
    "    return f\"{pct:.1f}%\\n({count})\"\n",
    "\n",
    "# Plot pie chart\n",
    "plt.figure(figsize=(6, 6))\n",
    "plt.pie(\n",
    "    status_counts, \n",
    "    labels=status_counts.index, \n",
    "    autopct=lambda pct: autopct_format(pct, status_counts),\n",
    "    startangle=90,\n",
    "    colors=['#ff9999', \"#FCDAC7\"]\n",
    ")\n",
    "\n",
    "plt.title('Renovation Status')\n",
    "plt.axis('equal')  # Equal aspect ratio ensures pie is drawn as a circle.\n",
    "plt.show()"
   ]
  }
 ],
 "metadata": {
  "kernelspec": {
   "display_name": ".venv",
   "language": "python",
   "name": "python3"
  },
  "language_info": {
   "codemirror_mode": {
    "name": "ipython",
    "version": 3
   },
   "file_extension": ".py",
   "mimetype": "text/x-python",
   "name": "python",
   "nbconvert_exporter": "python",
   "pygments_lexer": "ipython3",
   "version": "3.11.0b4"
  }
 },
 "nbformat": 4,
 "nbformat_minor": 5
}
