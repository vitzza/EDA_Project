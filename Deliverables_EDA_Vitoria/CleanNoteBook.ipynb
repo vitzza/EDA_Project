{
 "cells": [
  {
   "cell_type": "markdown",
   "id": "33c0ebe9",
   "metadata": {},
   "source": [
    "Ill use this notebook to go trough the AI suggestions, step by step."
   ]
  },
  {
   "cell_type": "code",
   "execution_count": 22,
   "id": "e6151f5a",
   "metadata": {},
   "outputs": [],
   "source": [
    "# Import packages\n",
    "import pandas as pd\n",
    "import numpy as np\n",
    "import matplotlib.pyplot as plt\n",
    "import seaborn as sns\n",
    "import folium\n",
    "from folium.plugins import HeatMap\n",
    "\n",
    "# Import and manage data\n",
    "df = pd.read_csv(\"../data/KingCounty_joinedTable.csv\", sep=\";\")"
   ]
  },
  {
   "cell_type": "code",
   "execution_count": 23,
   "id": "8b5d3157",
   "metadata": {},
   "outputs": [
    {
     "data": {
      "text/html": [
       "<div>\n",
       "<style scoped>\n",
       "    .dataframe tbody tr th:only-of-type {\n",
       "        vertical-align: middle;\n",
       "    }\n",
       "\n",
       "    .dataframe tbody tr th {\n",
       "        vertical-align: top;\n",
       "    }\n",
       "\n",
       "    .dataframe thead th {\n",
       "        text-align: right;\n",
       "    }\n",
       "</style>\n",
       "<table border=\"1\" class=\"dataframe\">\n",
       "  <thead>\n",
       "    <tr style=\"text-align: right;\">\n",
       "      <th></th>\n",
       "      <th>id</th>\n",
       "      <th>bedrooms</th>\n",
       "      <th>bathrooms</th>\n",
       "      <th>sqft_living</th>\n",
       "      <th>sqft_lot</th>\n",
       "      <th>floors</th>\n",
       "      <th>waterfront</th>\n",
       "      <th>view</th>\n",
       "      <th>condition</th>\n",
       "      <th>grade</th>\n",
       "      <th>...</th>\n",
       "      <th>yr_renovated</th>\n",
       "      <th>zipcode</th>\n",
       "      <th>lat</th>\n",
       "      <th>long</th>\n",
       "      <th>sqft_living15</th>\n",
       "      <th>sqft_lot15</th>\n",
       "      <th>date</th>\n",
       "      <th>price</th>\n",
       "      <th>house_id</th>\n",
       "      <th>id.1</th>\n",
       "    </tr>\n",
       "  </thead>\n",
       "  <tbody>\n",
       "    <tr>\n",
       "      <th>0</th>\n",
       "      <td>7129300520</td>\n",
       "      <td>3.0</td>\n",
       "      <td>1.00</td>\n",
       "      <td>1180.0</td>\n",
       "      <td>5650.0</td>\n",
       "      <td>1.0</td>\n",
       "      <td>NaN</td>\n",
       "      <td>0.0</td>\n",
       "      <td>3</td>\n",
       "      <td>7</td>\n",
       "      <td>...</td>\n",
       "      <td>0.0</td>\n",
       "      <td>98178</td>\n",
       "      <td>47.5112</td>\n",
       "      <td>-122.257</td>\n",
       "      <td>1340.0</td>\n",
       "      <td>5650.0</td>\n",
       "      <td>2014-10-13</td>\n",
       "      <td>221900.0</td>\n",
       "      <td>7129300520</td>\n",
       "      <td>1</td>\n",
       "    </tr>\n",
       "    <tr>\n",
       "      <th>1</th>\n",
       "      <td>6414100192</td>\n",
       "      <td>3.0</td>\n",
       "      <td>2.25</td>\n",
       "      <td>2570.0</td>\n",
       "      <td>7242.0</td>\n",
       "      <td>2.0</td>\n",
       "      <td>0.0</td>\n",
       "      <td>0.0</td>\n",
       "      <td>3</td>\n",
       "      <td>7</td>\n",
       "      <td>...</td>\n",
       "      <td>19910.0</td>\n",
       "      <td>98125</td>\n",
       "      <td>47.7210</td>\n",
       "      <td>-122.319</td>\n",
       "      <td>1690.0</td>\n",
       "      <td>7639.0</td>\n",
       "      <td>2014-12-09</td>\n",
       "      <td>538000.0</td>\n",
       "      <td>6414100192</td>\n",
       "      <td>2</td>\n",
       "    </tr>\n",
       "    <tr>\n",
       "      <th>2</th>\n",
       "      <td>5631500400</td>\n",
       "      <td>2.0</td>\n",
       "      <td>1.00</td>\n",
       "      <td>770.0</td>\n",
       "      <td>10000.0</td>\n",
       "      <td>1.0</td>\n",
       "      <td>0.0</td>\n",
       "      <td>0.0</td>\n",
       "      <td>3</td>\n",
       "      <td>6</td>\n",
       "      <td>...</td>\n",
       "      <td>NaN</td>\n",
       "      <td>98028</td>\n",
       "      <td>47.7379</td>\n",
       "      <td>-122.233</td>\n",
       "      <td>2720.0</td>\n",
       "      <td>8062.0</td>\n",
       "      <td>2015-02-25</td>\n",
       "      <td>180000.0</td>\n",
       "      <td>5631500400</td>\n",
       "      <td>3</td>\n",
       "    </tr>\n",
       "    <tr>\n",
       "      <th>3</th>\n",
       "      <td>2487200875</td>\n",
       "      <td>4.0</td>\n",
       "      <td>3.00</td>\n",
       "      <td>1960.0</td>\n",
       "      <td>5000.0</td>\n",
       "      <td>1.0</td>\n",
       "      <td>0.0</td>\n",
       "      <td>0.0</td>\n",
       "      <td>5</td>\n",
       "      <td>7</td>\n",
       "      <td>...</td>\n",
       "      <td>0.0</td>\n",
       "      <td>98136</td>\n",
       "      <td>47.5208</td>\n",
       "      <td>-122.393</td>\n",
       "      <td>1360.0</td>\n",
       "      <td>5000.0</td>\n",
       "      <td>2014-12-09</td>\n",
       "      <td>604000.0</td>\n",
       "      <td>2487200875</td>\n",
       "      <td>4</td>\n",
       "    </tr>\n",
       "    <tr>\n",
       "      <th>4</th>\n",
       "      <td>1954400510</td>\n",
       "      <td>3.0</td>\n",
       "      <td>2.00</td>\n",
       "      <td>1680.0</td>\n",
       "      <td>8080.0</td>\n",
       "      <td>1.0</td>\n",
       "      <td>0.0</td>\n",
       "      <td>0.0</td>\n",
       "      <td>3</td>\n",
       "      <td>8</td>\n",
       "      <td>...</td>\n",
       "      <td>0.0</td>\n",
       "      <td>98074</td>\n",
       "      <td>47.6168</td>\n",
       "      <td>-122.045</td>\n",
       "      <td>1800.0</td>\n",
       "      <td>7503.0</td>\n",
       "      <td>2015-02-18</td>\n",
       "      <td>510000.0</td>\n",
       "      <td>1954400510</td>\n",
       "      <td>5</td>\n",
       "    </tr>\n",
       "  </tbody>\n",
       "</table>\n",
       "<p>5 rows × 23 columns</p>\n",
       "</div>"
      ],
      "text/plain": [
       "           id  bedrooms  bathrooms  sqft_living  sqft_lot  floors  waterfront  \\\n",
       "0  7129300520       3.0       1.00       1180.0    5650.0     1.0         NaN   \n",
       "1  6414100192       3.0       2.25       2570.0    7242.0     2.0         0.0   \n",
       "2  5631500400       2.0       1.00        770.0   10000.0     1.0         0.0   \n",
       "3  2487200875       4.0       3.00       1960.0    5000.0     1.0         0.0   \n",
       "4  1954400510       3.0       2.00       1680.0    8080.0     1.0         0.0   \n",
       "\n",
       "   view  condition  grade  ...  yr_renovated  zipcode      lat     long  \\\n",
       "0   0.0          3      7  ...           0.0    98178  47.5112 -122.257   \n",
       "1   0.0          3      7  ...       19910.0    98125  47.7210 -122.319   \n",
       "2   0.0          3      6  ...           NaN    98028  47.7379 -122.233   \n",
       "3   0.0          5      7  ...           0.0    98136  47.5208 -122.393   \n",
       "4   0.0          3      8  ...           0.0    98074  47.6168 -122.045   \n",
       "\n",
       "   sqft_living15  sqft_lot15        date     price    house_id id.1  \n",
       "0         1340.0      5650.0  2014-10-13  221900.0  7129300520    1  \n",
       "1         1690.0      7639.0  2014-12-09  538000.0  6414100192    2  \n",
       "2         2720.0      8062.0  2015-02-25  180000.0  5631500400    3  \n",
       "3         1360.0      5000.0  2014-12-09  604000.0  2487200875    4  \n",
       "4         1800.0      7503.0  2015-02-18  510000.0  1954400510    5  \n",
       "\n",
       "[5 rows x 23 columns]"
      ]
     },
     "execution_count": 23,
     "metadata": {},
     "output_type": "execute_result"
    }
   ],
   "source": [
    "# See the first 5 rows\n",
    "df.head()"
   ]
  },
  {
   "cell_type": "code",
   "execution_count": 24,
   "id": "d5970f52",
   "metadata": {},
   "outputs": [
    {
     "name": "stdout",
     "output_type": "stream",
     "text": [
      "<class 'pandas.core.frame.DataFrame'>\n",
      "RangeIndex: 21597 entries, 0 to 21596\n",
      "Data columns (total 23 columns):\n",
      " #   Column         Non-Null Count  Dtype  \n",
      "---  ------         --------------  -----  \n",
      " 0   id             21597 non-null  int64  \n",
      " 1   bedrooms       21597 non-null  float64\n",
      " 2   bathrooms      21597 non-null  float64\n",
      " 3   sqft_living    21597 non-null  float64\n",
      " 4   sqft_lot       21597 non-null  float64\n",
      " 5   floors         21597 non-null  float64\n",
      " 6   waterfront     19206 non-null  float64\n",
      " 7   view           21534 non-null  float64\n",
      " 8   condition      21597 non-null  int64  \n",
      " 9   grade          21597 non-null  int64  \n",
      " 10  sqft_above     21597 non-null  float64\n",
      " 11  sqft_basement  21145 non-null  float64\n",
      " 12  yr_built       21597 non-null  int64  \n",
      " 13  yr_renovated   17749 non-null  float64\n",
      " 14  zipcode        21597 non-null  int64  \n",
      " 15  lat            21597 non-null  float64\n",
      " 16  long           21597 non-null  float64\n",
      " 17  sqft_living15  21597 non-null  float64\n",
      " 18  sqft_lot15     21597 non-null  float64\n",
      " 19  date           21597 non-null  object \n",
      " 20  price          21597 non-null  float64\n",
      " 21  house_id       21597 non-null  int64  \n",
      " 22  id.1           21597 non-null  int64  \n",
      "dtypes: float64(15), int64(7), object(1)\n",
      "memory usage: 3.8+ MB\n"
     ]
    }
   ],
   "source": [
    "# Check basic info about columns\n",
    "df.info()"
   ]
  },
  {
   "cell_type": "code",
   "execution_count": 48,
   "id": "514c3c2c",
   "metadata": {},
   "outputs": [],
   "source": [
    "# Check summary statistics (for prices, lot sizes etc.)\n",
    "df.describe().to_csv(\"general_describe.csv\")"
   ]
  },
  {
   "cell_type": "code",
   "execution_count": 26,
   "id": "b7cba6a0",
   "metadata": {},
   "outputs": [
    {
     "data": {
      "text/plain": [
       "id                  0\n",
       "bedrooms            0\n",
       "bathrooms           0\n",
       "sqft_living         0\n",
       "sqft_lot            0\n",
       "floors              0\n",
       "waterfront       2391\n",
       "view               63\n",
       "condition           0\n",
       "grade               0\n",
       "sqft_above          0\n",
       "sqft_basement     452\n",
       "yr_built            0\n",
       "yr_renovated     3848\n",
       "zipcode             0\n",
       "lat                 0\n",
       "long                0\n",
       "sqft_living15       0\n",
       "sqft_lot15          0\n",
       "date                0\n",
       "price               0\n",
       "house_id            0\n",
       "id.1                0\n",
       "dtype: int64"
      ]
     },
     "execution_count": 26,
     "metadata": {},
     "output_type": "execute_result"
    }
   ],
   "source": [
    "#Looking for null data\n",
    "df.isnull().sum()"
   ]
  },
  {
   "cell_type": "code",
   "execution_count": 27,
   "id": "81c1d353",
   "metadata": {},
   "outputs": [
    {
     "name": "stdout",
     "output_type": "stream",
     "text": [
      "waterfront       0\n",
      "view             0\n",
      "sqft_basement    0\n",
      "dtype: int64\n"
     ]
    }
   ],
   "source": [
    "# Fill missing values for critical columns\n",
    "df['waterfront'] = df['waterfront'].fillna(0)\n",
    "df['view'] = df['view'].fillna(0)\n",
    "df['sqft_basement'] = df['sqft_basement'].fillna(0)\n",
    "\n",
    "# Confirm there are no more NaNs in those columns\n",
    "print(df[['waterfront', 'view', 'sqft_basement']].isnull().sum())\n"
   ]
  },
  {
   "cell_type": "code",
   "execution_count": 28,
   "id": "78c09d47",
   "metadata": {},
   "outputs": [
    {
     "name": "stdout",
     "output_type": "stream",
     "text": [
      "               id     price  bedrooms  sqft_lot  condition  view  grade\n",
      "11544  2013802030  357000.0       3.0   53882.0          3   4.0      7\n",
      "18833  7631800110  380000.0       3.0   17342.0          3   4.0     10\n",
      "8270    221029019  400000.0       3.0   32718.0          3   4.0      7\n",
      "17460  6329000185  540000.0       3.0   23361.0          3   4.0      8\n",
      "9845    121039083  629000.0       3.0   12367.0          4   4.0      8\n",
      "Found 21 houses for Larry.\n"
     ]
    }
   ],
   "source": [
    "# Larry's preferences\n",
    "larry_budget = 1_000_000  # $1M\n",
    "min_lot_size = 10000      # 10,000 sqft for isolation\n",
    "\n",
    "# Apply filters\n",
    "larry_houses = df[\n",
    "    (df['waterfront'] == 1) &\n",
    "    (df['price'] <= larry_budget) &\n",
    "    (df['bedrooms'] >= 3) &\n",
    "    (df['condition'] >= 3) &\n",
    "    (df['view'] >= 2) &\n",
    "    (df['grade'] >= 7) &\n",
    "    (df['sqft_lot'] >= min_lot_size)\n",
    "]\n",
    "\n",
    "# Sort by price ascending\n",
    "larry_houses = larry_houses.sort_values(by='price')\n",
    "\n",
    "# See results\n",
    "print(larry_houses[['id', 'price', 'bedrooms', 'sqft_lot', 'condition', 'view', 'grade']].head())\n",
    "print(f\"Found {len(larry_houses)} houses for Larry.\")\n"
   ]
  },
  {
   "cell_type": "code",
   "execution_count": 29,
   "id": "6657bbdc",
   "metadata": {},
   "outputs": [
    {
     "name": "stdout",
     "output_type": "stream",
     "text": [
      "✅ Map saved as 'larry_houses_map.html'\n"
     ]
    }
   ],
   "source": [
    "# Center map on King County\n",
    "map_center = [larry_houses['lat'].mean(), larry_houses['long'].mean()]\n",
    "m = folium.Map(location=map_center, zoom_start=10)\n",
    "\n",
    "# Add markers for each house\n",
    "for _, row in larry_houses.iterrows():\n",
    "    popup_info = f\"\"\"\n",
    "    <b>Price:</b> ${row['price']:,.0f}<br>\n",
    "    <b>Bedrooms:</b> {row['bedrooms']}<br>\n",
    "    <b>Lot Size:</b> {row['sqft_lot']} sqft<br>\n",
    "    <b>Condition:</b> {row['condition']}<br>\n",
    "    <b>View:</b> {row['view']}\n",
    "    \"\"\"\n",
    "    folium.Marker(\n",
    "        location=[row['lat'], row['long']],\n",
    "        popup=popup_info,\n",
    "        icon=folium.Icon(color='blue', icon='home')\n",
    "    ).add_to(m)\n",
    "\n",
    "# Save map to HTML\n",
    "m.save('larry_houses_map.html')\n",
    "print(\"✅ Map saved as 'larry_houses_map.html'\")\n"
   ]
  },
  {
   "cell_type": "code",
   "execution_count": 30,
   "id": "48b1c3a1",
   "metadata": {},
   "outputs": [
    {
     "name": "stdout",
     "output_type": "stream",
     "text": [
      "✅ Colored map saved as 'larry_houses_colored_map.html'\n"
     ]
    }
   ],
   "source": [
    "# Function to color markers\n",
    "def price_color(price):\n",
    "    if price < 500_000:\n",
    "        return 'green'\n",
    "    elif price < 800_000:\n",
    "        return 'orange'\n",
    "    else:\n",
    "        return 'red'\n",
    "\n",
    "# Map with color-coded markers\n",
    "m = folium.Map(location=map_center, zoom_start=10)\n",
    "\n",
    "for _, row in larry_houses.iterrows():\n",
    "    popup_info = f\"\"\"\n",
    "    <b>Price:</b> ${row['price']:,.0f}<br>\n",
    "    <b>Bedrooms:</b> {row['bedrooms']}<br>\n",
    "    <b>Lot Size:</b> {row['sqft_lot']} sqft<br>\n",
    "    <b>Condition:</b> {row['condition']}<br>\n",
    "    <b>View:</b> {row['view']}\n",
    "    \"\"\"\n",
    "    folium.Marker(\n",
    "        location=[row['lat'], row['long']],\n",
    "        popup=popup_info,\n",
    "        icon=folium.Icon(color=price_color(row['price']), icon='home')\n",
    "    ).add_to(m)\n",
    "\n",
    "m.save('larry_houses_colored_map.html')\n",
    "print(\"✅ Colored map saved as 'larry_houses_colored_map.html'\")"
   ]
  },
  {
   "cell_type": "code",
   "execution_count": 31,
   "id": "8ab8fdf0",
   "metadata": {},
   "outputs": [
    {
     "name": "stdout",
     "output_type": "stream",
     "text": [
      "✅ Shortlist saved as 'larry_shortlist.csv'\n"
     ]
    }
   ],
   "source": [
    "larry_houses.to_csv('larry_shortlist.csv', index=False)\n",
    "print(\"✅ Shortlist saved as 'larry_shortlist.csv'\")\n"
   ]
  },
  {
   "cell_type": "code",
   "execution_count": 32,
   "id": "3f791755",
   "metadata": {},
   "outputs": [
    {
     "name": "stdout",
     "output_type": "stream",
     "text": [
      "✅ Heatmap saved as 'waterfront_heatmap.html'\n"
     ]
    }
   ],
   "source": [
    "# Filter all waterfront homes (not just Larry’s)\n",
    "waterfront_homes = df[df['waterfront'] == 1]\n",
    "\n",
    "# Prepare heatmap data\n",
    "heat_data = list(zip(waterfront_homes['lat'], waterfront_homes['long']))\n",
    "\n",
    "# Create base map\n",
    "heatmap = folium.Map(location=map_center, zoom_start=10)\n",
    "\n",
    "# Add heatmap layer\n",
    "HeatMap(heat_data, radius=15, blur=10).add_to(heatmap)\n",
    "\n",
    "# Save heatmap\n",
    "heatmap.save('waterfront_heatmap.html')\n",
    "print(\"✅ Heatmap saved as 'waterfront_heatmap.html'\")"
   ]
  },
  {
   "cell_type": "code",
   "execution_count": 33,
   "id": "7dab3e5a",
   "metadata": {},
   "outputs": [
    {
     "data": {
      "image/png": "[encoded data removed]",
      "text/plain": [
       "<Figure size 1000x600 with 1 Axes>"
      ]
     },
     "metadata": {},
     "output_type": "display_data"
    }
   ],
   "source": [
    "# Count Larry’s houses per zip code\n",
    "zip_counts = larry_houses['zipcode'].value_counts().sort_index()\n",
    "\n",
    "# Plot bar chart\n",
    "plt.figure(figsize=(10, 6))\n",
    "zip_counts.plot(kind='bar')\n",
    "plt.title(\"Number of Houses for Larry per Zip Code\")\n",
    "plt.xlabel(\"Zip Code\")\n",
    "plt.ylabel(\"Number of Houses\")\n",
    "plt.xticks(rotation=45)\n",
    "plt.grid(axis='y')\n",
    "plt.show()"
   ]
  },
  {
   "cell_type": "markdown",
   "id": "5a15009a",
   "metadata": {},
   "source": [
    "Since Larry wants a “nice & isolated but central” area without lots of families, we can:\n",
    "\n",
    "Find zip codes with big lot sizes (less dense).\n",
    "\n",
    "Suggest higher-income neighborhoods (usually fewer children per house).\n",
    "\n",
    "Let’s make a shortlist of zip codes that have Larry’s houses."
   ]
  },
  {
   "cell_type": "code",
   "execution_count": 34,
   "id": "11c54b45",
   "metadata": {},
   "outputs": [
    {
     "name": "stdout",
     "output_type": "stream",
     "text": [
      "Larry's houses per zip code:\n",
      "\n",
      "zipcode\n",
      "98198    5\n",
      "98166    5\n",
      "98070    4\n",
      "98146    3\n",
      "98178    3\n",
      "98023    1\n",
      "Name: count, dtype: int64\n",
      "\n",
      "Suggested quiet zip codes: [98198, 98166, 98070, 98146, 98178, 98023]\n",
      "\n",
      "Found 21 quiet houses for Larry.\n"
     ]
    }
   ],
   "source": [
    "# Find zip codes where Larry’s houses are located\n",
    "zip_counts = larry_houses['zipcode'].value_counts()\n",
    "print(\"Larry's houses per zip code:\\n\")\n",
    "print(zip_counts)\n",
    "\n",
    "# Suggest filtering to zip codes with fewer houses (likely quieter)\n",
    "quiet_zipcodes = zip_counts[zip_counts <= 5].index.tolist()\n",
    "print(\"\\nSuggested quiet zip codes:\", quiet_zipcodes)\n",
    "\n",
    "# Filter Larry’s houses to quiet zip codes\n",
    "quiet_houses = larry_houses[larry_houses['zipcode'].isin(quiet_zipcodes)]\n",
    "print(f\"\\nFound {len(quiet_houses)} quiet houses for Larry.\")\n"
   ]
  },
  {
   "cell_type": "markdown",
   "id": "289c5dfe",
   "metadata": {},
   "source": [
    "Larry didn’t say this explicitly, but if he’s germ-conscious, renovated homes may appeal to him."
   ]
  },
  {
   "cell_type": "code",
   "execution_count": 35,
   "id": "effdb91d",
   "metadata": {},
   "outputs": [
    {
     "name": "stdout",
     "output_type": "stream",
     "text": [
      "Found 2 houses renovated after 2000.\n"
     ]
    }
   ],
   "source": [
    "# Add a new column: was it renovated after 2000?\n",
    "larry_houses['renovated_recently'] = larry_houses['yr_renovated'].apply(\n",
    "    lambda x: True if x >= 2000 else False\n",
    ")\n",
    "\n",
    "# How many were recently renovated?\n",
    "recent_renovations = larry_houses['renovated_recently'].sum()\n",
    "print(f\"Found {recent_renovations} houses renovated after 2000.\")\n"
   ]
  },
  {
   "cell_type": "markdown",
   "id": "da45a6b3",
   "metadata": {},
   "source": [
    "Step 3: Add Circle Radius for Lot Size\n",
    "This makes larger lots stand out visually."
   ]
  },
  {
   "cell_type": "code",
   "execution_count": 36,
   "id": "6315fb72",
   "metadata": {},
   "outputs": [
    {
     "name": "stdout",
     "output_type": "stream",
     "text": [
      "✅ Circle map saved as 'larry_houses_circles_map.html'\n"
     ]
    }
   ],
   "source": [
    "# Map with circles sized by lot size\n",
    "m = folium.Map(location=map_center, zoom_start=10)\n",
    "\n",
    "for _, row in larry_houses.iterrows():\n",
    "    popup_info = f\"\"\"\n",
    "    <b>Price:</b> ${row['price']:,.0f}<br>\n",
    "    <b>Bedrooms:</b> {row['bedrooms']}<br>\n",
    "    <b>Lot Size:</b> {row['sqft_lot']} sqft<br>\n",
    "    <b>Condition:</b> {row['condition']}<br>\n",
    "    <b>View:</b> {row['view']}<br>\n",
    "    <b>Renovated Recently:</b> {'Yes' if row['renovated_recently'] else 'No'}\n",
    "    \"\"\"\n",
    "    folium.CircleMarker(\n",
    "        location=[row['lat'], row['long']],\n",
    "        radius=row['sqft_lot'] / 10000,  # scale down for visibility\n",
    "        popup=popup_info,\n",
    "        color=price_color(row['price']),\n",
    "        fill=True,\n",
    "        fill_opacity=0.6\n",
    "    ).add_to(m)\n",
    "\n",
    "m.save('larry_houses_circles_map.html')\n",
    "print(\"✅ Circle map saved as 'larry_houses_circles_map.html'\")\n"
   ]
  },
  {
   "cell_type": "markdown",
   "id": "67b837dd",
   "metadata": {},
   "source": [
    "Step 4: Combine Everything into One Map"
   ]
  },
  {
   "cell_type": "code",
   "execution_count": 37,
   "id": "6cb1b6eb",
   "metadata": {},
   "outputs": [
    {
     "name": "stdout",
     "output_type": "stream",
     "text": [
      "✅ Combined map saved as 'larry_combined_map.html'\n"
     ]
    }
   ],
   "source": [
    "m = folium.Map(location=map_center, zoom_start=10)\n",
    "\n",
    "for _, row in larry_houses.iterrows():\n",
    "    popup_info = f\"\"\"\n",
    "    <b>Price:</b> ${row['price']:,.0f}<br>\n",
    "    <b>Bedrooms:</b> {row['bedrooms']}<br>\n",
    "    <b>Lot Size:</b> {row['sqft_lot']} sqft<br>\n",
    "    <b>Condition:</b> {row['condition']}<br>\n",
    "    <b>View:</b> {row['view']}<br>\n",
    "    <b>Renovated Recently:</b> {'Yes' if row['renovated_recently'] else 'No'}\n",
    "    \"\"\"\n",
    "    \n",
    "    if row['renovated_recently']:\n",
    "        # Renovated houses = star icon\n",
    "        icon_type = folium.Icon(color=price_color(row['price']), icon='star')\n",
    "    else:\n",
    "        # Not renovated = home icon\n",
    "        icon_type = folium.Icon(color=price_color(row['price']), icon='home')\n",
    "\n",
    "    folium.CircleMarker(\n",
    "        location=[row['lat'], row['long']],\n",
    "        radius=row['sqft_lot'] / 10000,\n",
    "        popup=popup_info,\n",
    "        color=price_color(row['price']),\n",
    "        fill=True,\n",
    "        fill_opacity=0.7\n",
    "    ).add_to(m)\n",
    "\n",
    "m.save('larry_combined_map.html')\n",
    "print(\"✅ Combined map saved as 'larry_combined_map.html'\")\n"
   ]
  },
  {
   "cell_type": "markdown",
   "id": "15517abc",
   "metadata": {},
   "source": [
    "Final Add-On: Export Quiet Shortlist\n",
    "If you liked the quiet zip codes filter:"
   ]
  },
  {
   "cell_type": "code",
   "execution_count": null,
   "id": "e2f52072",
   "metadata": {},
   "outputs": [
    {
     "name": "stdout",
     "output_type": "stream",
     "text": [
      "✅ Quiet shortlist saved as 'larry_quiet_shortlist.xcsv'\n"
     ]
    }
   ],
   "source": [
    "quiet_houses.to_csv('larry_quiet_shortlist.csv', index=False)\n",
    "print(\"✅ Quiet shortlist saved as 'larry_quiet_shortlist.csv'\")\n"
   ]
  },
  {
   "cell_type": "markdown",
   "id": "512600ad",
   "metadata": {},
   "source": [
    "Filter out family-friendly zip codes using bedrooms average\n",
    "Idea: Zip codes with higher average bedrooms per house likely have more families.\n",
    "\n",
    "Code (proxy method):"
   ]
  },
  {
   "cell_type": "code",
   "execution_count": 40,
   "id": "d97d5a19",
   "metadata": {},
   "outputs": [
    {
     "name": "stdout",
     "output_type": "stream",
     "text": [
      "Likely family-heavy zip codes: [98004, 98005, 98006, 98007, 98008, 98011, 98027, 98030, 98033, 98039, 98040, 98052, 98058, 98059, 98065, 98074, 98075, 98077, 98092, 98105, 98112]\n",
      "Found 21 houses in less family-oriented zip codes.\n"
     ]
    }
   ],
   "source": [
    "# Calculate average # of bedrooms per zip code\n",
    "zip_bedroom_avg = df.groupby('zipcode')['bedrooms'].mean()\n",
    "\n",
    "# Define zip codes with high average bedrooms (i.e., family-heavy)\n",
    "family_zipcodes = zip_bedroom_avg[zip_bedroom_avg >= 3.5].index.tolist()\n",
    "print(\"Likely family-heavy zip codes:\", family_zipcodes)\n",
    "\n",
    "# Exclude family-heavy zip codes from Larry’s list\n",
    "no_kids_houses = larry_houses[~larry_houses['zipcode'].isin(family_zipcodes)]\n",
    "print(f\"Found {len(no_kids_houses)} houses in less family-oriented zip codes.\")\n"
   ]
  },
  {
   "cell_type": "markdown",
   "id": "0f753ef8",
   "metadata": {},
   "source": [
    "Polish the Analysis for Presentation\n",
    "Let’s prepare it so you could send this to Larry as a “real agent”. Include:"
   ]
  },
  {
   "cell_type": "code",
   "execution_count": 41,
   "id": "d0229bc3",
   "metadata": {},
   "outputs": [
    {
     "name": "stdout",
     "output_type": "stream",
     "text": [
      "Total Houses Analyzed: 21597\n",
      "Waterfront Houses: 146\n",
      "Budget-Friendly Matches: 21\n",
      "Quiet Zip Code Matches: 21\n",
      "Recently Renovated: 2\n",
      "Filtered (No Kids Areas): 21\n"
     ]
    }
   ],
   "source": [
    "summary = {\n",
    "    \"Total Houses Analyzed\": len(df),\n",
    "    \"Waterfront Houses\": len(df[df['waterfront'] == 1]),\n",
    "    \"Budget-Friendly Matches\": len(larry_houses),\n",
    "    \"Quiet Zip Code Matches\": len(quiet_houses),\n",
    "    \"Recently Renovated\": recent_renovations,\n",
    "    \"Filtered (No Kids Areas)\": len(no_kids_houses)\n",
    "}\n",
    "\n",
    "for k, v in summary.items():\n",
    "    print(f\"{k}: {v}\")\n"
   ]
  },
  {
   "cell_type": "code",
   "execution_count": 42,
   "id": "622008d6",
   "metadata": {},
   "outputs": [
    {
     "name": "stdout",
     "output_type": "stream",
     "text": [
      "✅ Final shortlist saved as 'larry_final_shortlist.csv'\n"
     ]
    }
   ],
   "source": [
    "no_kids_houses.to_csv('larry_final_shortlist.csv', index=False)\n",
    "print(\"✅ Final shortlist saved as 'larry_final_shortlist.csv'\")\n"
   ]
  },
  {
   "cell_type": "markdown",
   "id": "0565413e",
   "metadata": {},
   "source": [
    "Optional Visual: Pie Chart of Renovation"
   ]
  },
  {
   "cell_type": "code",
   "execution_count": 43,
   "id": "981de78d",
   "metadata": {},
   "outputs": [
    {
     "data": {
      "image/png": "[encoded data removed]",
      "text/plain": [
       "<Figure size 600x600 with 1 Axes>"
      ]
     },
     "metadata": {},
     "output_type": "display_data"
    }
   ],
   "source": [
    "labels = ['Renovated After 2000', 'Not Renovated']\n",
    "sizes = [recent_renovations, len(larry_houses) - recent_renovations]\n",
    "\n",
    "plt.figure(figsize=(6, 6))\n",
    "plt.pie(sizes, labels=labels, autopct='%1.1f%%', colors=['#4CAF50', '#FF7043'])\n",
    "plt.title('Renovation Status of Larry’s Matches')\n",
    "plt.show()\n"
   ]
  }
 ],
 "metadata": {
  "kernelspec": {
   "display_name": ".venv",
   "language": "python",
   "name": "python3"
  },
  "language_info": {
   "codemirror_mode": {
    "name": "ipython",
    "version": 3
   },
   "file_extension": ".py",
   "mimetype": "text/x-python",
   "name": "python",
   "nbconvert_exporter": "python",
   "pygments_lexer": "ipython3",
   "version": "3.11.3"
  }
 },
 "nbformat": 4,
 "nbformat_minor": 5
}
